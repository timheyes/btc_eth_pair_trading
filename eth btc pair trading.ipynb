{
 "cells": [
  {
   "cell_type": "code",
   "execution_count": 3,
   "metadata": {},
   "outputs": [
    {
     "data": {
      "text/html": [
       "<div>\n",
       "<style scoped>\n",
       "    .dataframe tbody tr th:only-of-type {\n",
       "        vertical-align: middle;\n",
       "    }\n",
       "\n",
       "    .dataframe tbody tr th {\n",
       "        vertical-align: top;\n",
       "    }\n",
       "\n",
       "    .dataframe thead th {\n",
       "        text-align: right;\n",
       "    }\n",
       "</style>\n",
       "<table border=\"1\" class=\"dataframe\">\n",
       "  <thead>\n",
       "    <tr style=\"text-align: right;\">\n",
       "      <th></th>\n",
       "      <th>Unix Timestamp</th>\n",
       "      <th>Date</th>\n",
       "      <th>Symbol</th>\n",
       "      <th>Open</th>\n",
       "      <th>High</th>\n",
       "      <th>Low</th>\n",
       "      <th>Close</th>\n",
       "      <th>Volume BTC</th>\n",
       "      <th>Volume USDT</th>\n",
       "    </tr>\n",
       "  </thead>\n",
       "  <tbody>\n",
       "    <tr>\n",
       "      <th>0</th>\n",
       "      <td>1.502942e+09</td>\n",
       "      <td>2017-08-17 04-AM</td>\n",
       "      <td>BTCUSDT</td>\n",
       "      <td>16199.91</td>\n",
       "      <td>16199.91</td>\n",
       "      <td>4261.32</td>\n",
       "      <td>4308.83</td>\n",
       "      <td>44.5100</td>\n",
       "      <td>190952.85</td>\n",
       "    </tr>\n",
       "    <tr>\n",
       "      <th>1</th>\n",
       "      <td>1.502946e+09</td>\n",
       "      <td>2017-08-17 05-AM</td>\n",
       "      <td>BTCUSDT</td>\n",
       "      <td>4308.83</td>\n",
       "      <td>4328.69</td>\n",
       "      <td>4291.37</td>\n",
       "      <td>4315.32</td>\n",
       "      <td>23.2300</td>\n",
       "      <td>100304.82</td>\n",
       "    </tr>\n",
       "    <tr>\n",
       "      <th>2</th>\n",
       "      <td>1.502950e+09</td>\n",
       "      <td>2017-08-17 06-AM</td>\n",
       "      <td>BTCUSDT</td>\n",
       "      <td>4315.32</td>\n",
       "      <td>4345.45</td>\n",
       "      <td>4309.37</td>\n",
       "      <td>4324.35</td>\n",
       "      <td>7.2300</td>\n",
       "      <td>31282.31</td>\n",
       "    </tr>\n",
       "    <tr>\n",
       "      <th>3</th>\n",
       "      <td>1.502953e+09</td>\n",
       "      <td>2017-08-17 07-AM</td>\n",
       "      <td>BTCUSDT</td>\n",
       "      <td>4324.35</td>\n",
       "      <td>4349.99</td>\n",
       "      <td>4287.41</td>\n",
       "      <td>4349.99</td>\n",
       "      <td>4.4400</td>\n",
       "      <td>19241.06</td>\n",
       "    </tr>\n",
       "    <tr>\n",
       "      <th>4</th>\n",
       "      <td>1.502957e+09</td>\n",
       "      <td>2017-08-17 08-AM</td>\n",
       "      <td>BTCUSDT</td>\n",
       "      <td>4349.99</td>\n",
       "      <td>4377.85</td>\n",
       "      <td>4333.32</td>\n",
       "      <td>4360.69</td>\n",
       "      <td>0.9499</td>\n",
       "      <td>4139.70</td>\n",
       "    </tr>\n",
       "    <tr>\n",
       "      <th>...</th>\n",
       "      <td>...</td>\n",
       "      <td>...</td>\n",
       "      <td>...</td>\n",
       "      <td>...</td>\n",
       "      <td>...</td>\n",
       "      <td>...</td>\n",
       "      <td>...</td>\n",
       "      <td>...</td>\n",
       "      <td>...</td>\n",
       "    </tr>\n",
       "    <tr>\n",
       "      <th>27090</th>\n",
       "      <td>1.600466e+09</td>\n",
       "      <td>2020-09-18 10-PM</td>\n",
       "      <td>BTCUSDT</td>\n",
       "      <td>10939.63</td>\n",
       "      <td>10944.79</td>\n",
       "      <td>10919.07</td>\n",
       "      <td>10928.04</td>\n",
       "      <td>1151.4600</td>\n",
       "      <td>12585915.04</td>\n",
       "    </tr>\n",
       "    <tr>\n",
       "      <th>27091</th>\n",
       "      <td>1.600470e+09</td>\n",
       "      <td>2020-09-18 11-PM</td>\n",
       "      <td>BTCUSDT</td>\n",
       "      <td>10928.04</td>\n",
       "      <td>10937.02</td>\n",
       "      <td>10884.38</td>\n",
       "      <td>10933.39</td>\n",
       "      <td>1425.7700</td>\n",
       "      <td>15559167.50</td>\n",
       "    </tr>\n",
       "    <tr>\n",
       "      <th>27092</th>\n",
       "      <td>1.600474e+09</td>\n",
       "      <td>2020-09-19 12-AM</td>\n",
       "      <td>BTCUSDT</td>\n",
       "      <td>10933.39</td>\n",
       "      <td>10974.03</td>\n",
       "      <td>10929.88</td>\n",
       "      <td>10972.79</td>\n",
       "      <td>1589.9600</td>\n",
       "      <td>17415457.61</td>\n",
       "    </tr>\n",
       "    <tr>\n",
       "      <th>27093</th>\n",
       "      <td>1.600477e+09</td>\n",
       "      <td>2020-09-19 01-AM</td>\n",
       "      <td>BTCUSDT</td>\n",
       "      <td>10972.79</td>\n",
       "      <td>10974.03</td>\n",
       "      <td>10934.20</td>\n",
       "      <td>10945.49</td>\n",
       "      <td>1283.4000</td>\n",
       "      <td>14053270.80</td>\n",
       "    </tr>\n",
       "    <tr>\n",
       "      <th>27094</th>\n",
       "      <td>1.600481e+09</td>\n",
       "      <td>2020-09-19 02-AM</td>\n",
       "      <td>BTCUSDT</td>\n",
       "      <td>10945.49</td>\n",
       "      <td>10970.00</td>\n",
       "      <td>10941.83</td>\n",
       "      <td>10970.00</td>\n",
       "      <td>1290.0200</td>\n",
       "      <td>14132917.01</td>\n",
       "    </tr>\n",
       "  </tbody>\n",
       "</table>\n",
       "<p>27095 rows × 9 columns</p>\n",
       "</div>"
      ],
      "text/plain": [
       "       Unix Timestamp              Date   Symbol      Open      High  \\\n",
       "0        1.502942e+09  2017-08-17 04-AM  BTCUSDT  16199.91  16199.91   \n",
       "1        1.502946e+09  2017-08-17 05-AM  BTCUSDT   4308.83   4328.69   \n",
       "2        1.502950e+09  2017-08-17 06-AM  BTCUSDT   4315.32   4345.45   \n",
       "3        1.502953e+09  2017-08-17 07-AM  BTCUSDT   4324.35   4349.99   \n",
       "4        1.502957e+09  2017-08-17 08-AM  BTCUSDT   4349.99   4377.85   \n",
       "...               ...               ...      ...       ...       ...   \n",
       "27090    1.600466e+09  2020-09-18 10-PM  BTCUSDT  10939.63  10944.79   \n",
       "27091    1.600470e+09  2020-09-18 11-PM  BTCUSDT  10928.04  10937.02   \n",
       "27092    1.600474e+09  2020-09-19 12-AM  BTCUSDT  10933.39  10974.03   \n",
       "27093    1.600477e+09  2020-09-19 01-AM  BTCUSDT  10972.79  10974.03   \n",
       "27094    1.600481e+09  2020-09-19 02-AM  BTCUSDT  10945.49  10970.00   \n",
       "\n",
       "            Low     Close  Volume BTC  Volume USDT  \n",
       "0       4261.32   4308.83     44.5100    190952.85  \n",
       "1       4291.37   4315.32     23.2300    100304.82  \n",
       "2       4309.37   4324.35      7.2300     31282.31  \n",
       "3       4287.41   4349.99      4.4400     19241.06  \n",
       "4       4333.32   4360.69      0.9499      4139.70  \n",
       "...         ...       ...         ...          ...  \n",
       "27090  10919.07  10928.04   1151.4600  12585915.04  \n",
       "27091  10884.38  10933.39   1425.7700  15559167.50  \n",
       "27092  10929.88  10972.79   1589.9600  17415457.61  \n",
       "27093  10934.20  10945.49   1283.4000  14053270.80  \n",
       "27094  10941.83  10970.00   1290.0200  14132917.01  \n",
       "\n",
       "[27095 rows x 9 columns]"
      ]
     },
     "execution_count": 3,
     "metadata": {},
     "output_type": "execute_result"
    }
   ],
   "source": [
    "#this strategy generates trade signals based on the percentage change between btc and eth close prices.\n",
    "#This distribution seems to be normal, so we generate a buy / sell signal when the percentage change is higher than a given threshold.\n",
    "\n",
    "import numpy as np\n",
    "import pandas as pd\n",
    "from pandas_profiling import ProfileReport\n",
    "#read in the OHLCV data we collected from binance (1hr frequency, 2017-2020).\n",
    "btc_usdt = pd.read_csv(\"Binance_BTCUSDT_1h.csv\", header=1)\n",
    "eth_usdt = pd.read_csv(\"Binance_ETHUSDT_1h.csv\", header=1)\n",
    "\n",
    "#preprocessing the df to reverse dates and reset index\n",
    "eth_usdt = eth_usdt[::-1].reset_index()\n",
    "btc_usdt = btc_usdt[::-1].reset_index()\n",
    "btc_usdt.drop(['index'], axis=1, inplace=True)\n",
    "eth_usdt.drop(['index'], axis=1, inplace=True)\n",
    "btc_usdt.head(-5)"
   ]
  },
  {
   "cell_type": "code",
   "execution_count": 4,
   "metadata": {},
   "outputs": [
    {
     "name": "stdout",
     "output_type": "stream",
     "text": [
      "btcusdt close 2017/08 -> 2020/09:\n",
      " 0         4308.83\n",
      "1         4315.32\n",
      "2         4324.35\n",
      "3         4349.99\n",
      "4         4360.69\n",
      "           ...   \n",
      "27095    10976.00\n",
      "27096    10956.67\n",
      "27097    10933.44\n",
      "27098    10944.82\n",
      "27099    10940.00\n",
      "Name: Close, Length: 27100, dtype: float64 \n",
      "\n",
      " btcusdt returns 2017/08 -> 2020/09:\n",
      " 0             NaN\n",
      "1        0.001506\n",
      "2        0.003602\n",
      "3        0.009552\n",
      "4        0.012036\n",
      "           ...   \n",
      "27095    1.547327\n",
      "27096    1.542841\n",
      "27097    1.537450\n",
      "27098    1.540091\n",
      "27099    1.538972\n",
      "Name: Returns, Length: 27100, dtype: float64\n"
     ]
    },
    {
     "data": {
      "image/png": "[encoded data removed]",
      "text/plain": [
       "<Figure size 432x288 with 1 Axes>"
      ]
     },
     "metadata": {
      "needs_background": "light"
     },
     "output_type": "display_data"
    }
   ],
   "source": [
    "import matplotlib.pyplot as plt\n",
    "#Calculate the cumulative returns from 2017 to 2020 and plot it.\n",
    "btc_usdt['Returns'] = np.cumprod(1 + btc_usdt['Close'].pct_change()) -1\n",
    "eth_usdt['Returns'] = np.cumprod(1 + eth_usdt['Close'].pct_change()) -1\n",
    "\n",
    "plt.plot(btc_usdt['Returns'][:8760], label='BTC returns')\n",
    "plt.plot(eth_usdt['Returns'][:8760], label='ETH returns')\n",
    "plt.legend()\n",
    "\n",
    "\n",
    "print('btcusdt close 2017/08 -> 2020/09:\\n', btc_usdt['Close'], '\\n\\n',\n",
    "      'btcusdt returns 2017/08 -> 2020/09:\\n', btc_usdt['Returns'])"
   ]
  },
  {
   "cell_type": "code",
   "execution_count": 5,
   "metadata": {},
   "outputs": [
    {
     "data": {
      "text/plain": [
       "<matplotlib.legend.Legend at 0x7f8de859f790>"
      ]
     },
     "execution_count": 5,
     "metadata": {},
     "output_type": "execute_result"
    },
    {
     "data": {
      "image/png": "[encoded data removed]",
      "text/plain": [
       "<Figure size 432x288 with 1 Axes>"
      ]
     },
     "metadata": {
      "needs_background": "light"
     },
     "output_type": "display_data"
    }
   ],
   "source": [
    "#Calculate the percent change between bitcoin and eth close prices and plot it.\n",
    "btc_usdt['btc/eth ratio'] = (btc_usdt['Close'] / eth_usdt['Close']).pct_change()\n",
    "plt.plot(btc_usdt['btc/eth ratio'][:8760], label='BTC to ETH Close % change ratio')\n",
    "plt.legend()"
   ]
  },
  {
   "cell_type": "code",
   "execution_count": 6,
   "metadata": {},
   "outputs": [
    {
     "name": "stderr",
     "output_type": "stream",
     "text": [
      "<ipython-input-6-36aa6f4d8f9b>:7: SettingWithCopyWarning: \n",
      "A value is trying to be set on a copy of a slice from a DataFrame\n",
      "\n",
      "See the caveats in the documentation: https://pandas.pydata.org/pandas-docs/stable/user_guide/indexing.html#returning-a-view-versus-a-copy\n",
      "  btc_usdt['normalised ratio'][1:8761] = stats.zscore(btc_usdt['btc/eth ratio'][1:8761]) #0 index is nan\n",
      "/home/tim/anaconda3/envs/algotrading/lib/python3.8/site-packages/pandas/core/indexing.py:670: SettingWithCopyWarning: \n",
      "A value is trying to be set on a copy of a slice from a DataFrame\n",
      "\n",
      "See the caveats in the documentation: https://pandas.pydata.org/pandas-docs/stable/user_guide/indexing.html#returning-a-view-versus-a-copy\n",
      "  iloc._setitem_with_indexer(indexer, value)\n"
     ]
    },
    {
     "data": {
      "text/plain": [
       "[<matplotlib.lines.Line2D at 0x7f8d9d6016d0>]"
      ]
     },
     "execution_count": 6,
     "metadata": {},
     "output_type": "execute_result"
    },
    {
     "data": {
      "image/png": "[encoded data removed]",
      "text/plain": [
       "<Figure size 432x288 with 1 Axes>"
      ]
     },
     "metadata": {
      "needs_background": "light"
     },
     "output_type": "display_data"
    }
   ],
   "source": [
    "#Calculate the std. dev between the close change ratio and normalize using zscore, then plot.\n",
    "from scipy import stats\n",
    "#btc_usdt.head(10)\n",
    "np.std(btc_usdt['btc/eth ratio'][:8760])\n",
    "btc_usdt['btc/eth ratio'].head()\n",
    "btc_usdt['normalised ratio'] = 0\n",
    "btc_usdt['normalised ratio'][1:8761] = stats.zscore(btc_usdt['btc/eth ratio'][1:8761]) #0 index is nan\n",
    "plt.plot(btc_usdt['normalised ratio'][:8760])"
   ]
  },
  {
   "cell_type": "code",
   "execution_count": 7,
   "metadata": {},
   "outputs": [
    {
     "data": {
      "text/plain": [
       "8.561643835616438"
      ]
     },
     "execution_count": 7,
     "metadata": {},
     "output_type": "execute_result"
    }
   ],
   "source": [
    "#Calculate percentage of deviation above 2\n",
    "btc_usdt[btc_usdt['normalised ratio'] > 2].groupby('normalised ratio')['normalised ratio'].count()\n",
    "percentage = len(btc_usdt[btc_usdt['normalised ratio'] > 1].groupby('normalised ratio')['normalised ratio'].count()) / len(btc_usdt['normalised ratio'][:8760])\n",
    "percentage * 100"
   ]
  },
  {
   "cell_type": "code",
   "execution_count": 8,
   "metadata": {},
   "outputs": [
    {
     "data": {
      "image/png": "[encoded data removed]",
      "text/plain": [
       "<Figure size 432x288 with 1 Axes>"
      ]
     },
     "metadata": {
      "needs_background": "light"
     },
     "output_type": "display_data"
    }
   ],
   "source": [
    "#Plot to see the distribution characteristics of the normalised ratio\n",
    "btc_usdt['normalised ratio'].dropna()\n",
    "test = btc_usdt['normalised ratio'][:8760].values\n",
    "plt.hist(test[np.isfinite(test)], bins=50)\n",
    "plt.show()"
   ]
  },
  {
   "cell_type": "code",
   "execution_count": 9,
   "metadata": {},
   "outputs": [
    {
     "data": {
      "text/plain": [
       "[<matplotlib.lines.Line2D at 0x7f8d9d4e8310>]"
      ]
     },
     "execution_count": 9,
     "metadata": {},
     "output_type": "execute_result"
    },
    {
     "data": {
      "image/png": "[encoded data removed]",
      "text/plain": [
       "<Figure size 432x288 with 1 Axes>"
      ]
     },
     "metadata": {
      "needs_background": "light"
     },
     "output_type": "display_data"
    }
   ],
   "source": [
    "#turn our data into trading signals.\n",
    "\n",
    "signals = pd.DataFrame(index=range(0, 8760))\n",
    "\n",
    "# -1 = sell, 1 = buy, 0 = hold\n",
    "\n",
    "i = 0\n",
    "signals['data'] = 0\n",
    "\n",
    "for row in test[np.isfinite(test)][:8760]:\n",
    "    if row > 1:\n",
    "        signals['data'][i] = -1\n",
    "        \n",
    "    elif row < -1:\n",
    "        signals['data'][i] = 1\n",
    "    else:\n",
    "        signals['data'][i] = 0\n",
    "        \n",
    "    i = i + 1\n",
    "    \n",
    "plt.plot(signals[:24])"
   ]
  }
 ],
 "metadata": {
  "kernelspec": {
   "display_name": "algotrading",
   "language": "python",
   "name": "algotrading"
  },
  "language_info": {
   "codemirror_mode": {
    "name": "ipython",
    "version": 3
   },
   "file_extension": ".py",
   "mimetype": "text/x-python",
   "name": "python",
   "nbconvert_exporter": "python",
   "pygments_lexer": "ipython3",
   "version": "3.8.5"
  }
 },
 "nbformat": 4,
 "nbformat_minor": 4
}
